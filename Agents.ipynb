{
 "cells": [
  {
   "cell_type": "markdown",
   "metadata": {},
   "source": [
    "The core idea of agents is to use a language model to choose a sequence of actions to take. In chains, a sequence of actions is hardcoded. In agents, a language model is used as a reasoning engine to determine which actions to take and in which order\n",
    "\n",
    "# Quickstart\n",
    "To best understand the agent framework, let's build an agent that has two tools: one to look things online, and one to look up specific data that we've loaded into an index.\n",
    "\n",
    "## Setup: Langsmith\n",
    "By definition, agents take a self-determined, input-dependent sequence of steps before returning  a user-facing output. This makes debugging these systems rather tricky, and observability particularly important. Langsmith is especially useful in such cases"
   ]
  },
  {
   "cell_type": "code",
   "execution_count": 1,
   "metadata": {},
   "outputs": [],
   "source": [
    "# Load environment variables from .env file\n",
    "import os\n",
    "from dotenv import load_dotenv\n",
    "load_dotenv()\n",
    "\n",
    "# Access the value of LANGCHAIN_API_KEY from .env file\n",
    "LANGCHAIN_API_KEY = os.getenv(\"LANGCHAIN_API_KEY\")\n",
    "OPENAI_API_KEY = os.getenv(\"OPENAI_API_KEY\")\n",
    "TAVILY_API_KEY = os.getenv(\"TAVILY_API_KEY\")"
   ]
  },
  {
   "cell_type": "code",
   "execution_count": 4,
   "metadata": {},
   "outputs": [
    {
     "data": {
      "text/plain": [
       "[{'url': 'https://learnaboutkenya.com/who-were-the-leaders-of-the-mau-mau-movement/',\n",
       "  'content': 'Jomo Kenyatta, born on October 20, 1897, in Gatundu, British East Africa, was a prominent leader during the Mau Mau movement in Kenya. Growing up in a traditional Kikuyu family, Kenyatta experienced firsthand the injustices and discrimination against indigenous Africans under British colonial rule. This early exposure to the hardships faced by ...'},\n",
       " {'url': 'https://en.wikipedia.org/wiki/Dedan_Kimathi',\n",
       "  'content': 'Dedan Kimathi Waciuri (born Kimathi wa Waciuri; 31 October 1920 - 18 February 1957) was the senior military and spiritual leader of the Kikuyu rebels involved in the Mau Mau Uprising.Widely regarded as a revolutionary leader, he led the armed military struggle against the British colonial regime in Kenya in the 1950s until his capture in 1956 and execution in 1957.'},\n",
       " {'url': 'https://en.wikipedia.org/wiki/Mau_Mau_rebellion',\n",
       "  'content': 't. e. The Mau Mau rebellion (1952-1960), also known as the Mau Mau uprising, Mau Mau revolt, or Kenya Emergency, was a war in the British Kenya Colony (1920-1963) between the Kenya Land and Freedom Army (KLFA), also known as the Mau Mau, and the British authorities. [7] Dominated by Kikuyu, Meru and Embu fighters, the KLFA also comprised ...'},\n",
       " {'url': 'https://www.britannica.com/topic/Mau-Mau',\n",
       "  'content': 'The Mau Mau (origin of the name is uncertain) advocated violent resistance to British domination in Kenya; the movement was especially associated with the ritual oaths employed by leaders of the Kikuyu Central Association to promote unity in the independence movement. In 1950 the Mau Mau were banned by British authorities, and in October 1952 ...'},\n",
       " {'url': 'https://www.iwm.org.uk/history/what-was-the-mau-mau-uprising',\n",
       "  'content': \"Kenya itself would become independent in 1963, under the Presidency of Jomo Kenyatta, the KAU leader who had been accused of leading Mau Mau. Most Mau Mau felt they were not rewarded for their struggle for independence, as Kenyatta preached a doctrine of 'forgetting the past'. Many loyalists remained in powerful positions in government.\"}]"
      ]
     },
     "execution_count": 4,
     "metadata": {},
     "output_type": "execute_result"
    }
   ],
   "source": [
    "from langchain_community.tools.tavily_search import TavilySearchResults\n",
    "search = TavilySearchResults()\n",
    "search.invoke(\"Who was the leader of the Mau Mau Revolution in Kenya?\")"
   ]
  },
  {
   "cell_type": "markdown",
   "metadata": {},
   "source": [
    "## Retriever\n"
   ]
  },
  {
   "cell_type": "code",
   "execution_count": 7,
   "metadata": {},
   "outputs": [],
   "source": [
    "from langchain_community.document_loaders import WebBaseLoader\n",
    "from langchain_community.vectorstores import FAISS\n",
    "from langchain_openai import OpenAIEmbeddings\n",
    "from langchain_text_splitters import RecursiveCharacterTextSplitter\n",
    "\n",
    "loader = WebBaseLoader(\"https://en.wikipedia.org/wiki/Mau_Mau_rebellion\")\n",
    "docs = loader.load()\n",
    "documents = RecursiveCharacterTextSplitter(\n",
    "    chunk_size=1000,\n",
    "    chunk_overlap=200\n",
    ").split_documents(docs)\n",
    "vector = FAISS.from_documents(documents, OpenAIEmbeddings())\n",
    "retriever = vector.as_retriever()"
   ]
  },
  {
   "cell_type": "code",
   "execution_count": 8,
   "metadata": {},
   "outputs": [
    {
     "data": {
      "text/plain": [
       "Document(page_content=\"Kenya portalvte\\nThe Mau Mau rebellion (1952–1960), also known as the Mau Mau uprising, Mau Mau revolt, or Kenya Emergency, was a war in the British Kenya Colony (1920–1963) between the Kenya Land and Freedom Army (KLFA), also known as the Mau Mau, and the British authorities.[7] Dominated by Kikuyu, Meru and Embu fighters, the KLFA also comprised units of Kamba[8] and Maasai who fought against the European colonists in Kenya, the British Army, and the local Kenya Regiment (British colonists, local auxiliary militia, and pro-British Kikuyu).[9][b]\\nThe capture of rebel leader Field Marshal Dedan Kimathi on 21 October 1956 signalled the defeat of the Mau Mau, and essentially ended the British military campaign.[10] However, the rebellion survived until after Kenya's independence from Britain, driven mainly by the Meru units led by Field Marshal Musa Mwariama. General Baimungi, one of the last Mau Mau leaders, was killed shortly after Kenya attained self-rule.[11]\", metadata={'source': 'https://en.wikipedia.org/wiki/Mau_Mau_rebellion', 'title': 'Mau Mau rebellion - Wikipedia', 'language': 'en'})"
      ]
     },
     "execution_count": 8,
     "metadata": {},
     "output_type": "execute_result"
    }
   ],
   "source": [
    "retriever.get_relevant_documents(\"Who was the leader of the Mau Mau rebellion\")[0]"
   ]
  },
  {
   "cell_type": "markdown",
   "metadata": {},
   "source": [
    "Now that we have populated our index that we will be doing retrieval over, we can easily turn it into a tool(the format needed for an agent to properly use it)"
   ]
  },
  {
   "cell_type": "code",
   "execution_count": 20,
   "metadata": {},
   "outputs": [],
   "source": [
    "from langchain.tools.retriever import create_retriever_tool\n",
    "\n",
    "retriever_tool = create_retriever_tool(\n",
    "    retriever,\n",
    "    \"maumau_history\",\n",
    "    \"Search for any information on the mau mau. You may use this tool\"\n",
    ")\n",
    "\n",
    "# create a list of tools we will use downstream\n",
    "tools = [search, retriever_tool]\n",
    "\n",
    "# create the agent\n",
    "from langchain_openai import ChatOpenAI\n",
    "llm = ChatOpenAI(model=\"gpt-3.5-turbo\", temperature=0)"
   ]
  },
  {
   "cell_type": "code",
   "execution_count": 21,
   "metadata": {},
   "outputs": [
    {
     "data": {
      "text/plain": [
       "[SystemMessagePromptTemplate(prompt=PromptTemplate(input_variables=[], template='You are a helpful assistant')),\n",
       " MessagesPlaceholder(variable_name='chat_history', optional=True),\n",
       " HumanMessagePromptTemplate(prompt=PromptTemplate(input_variables=['input'], template='{input}')),\n",
       " MessagesPlaceholder(variable_name='agent_scratchpad')]"
      ]
     },
     "execution_count": 21,
     "metadata": {},
     "output_type": "execute_result"
    }
   ],
   "source": [
    "from langchain import hub\n",
    "# choose the prompt we will use to guide the agent\n",
    "prompt = hub.pull(\"hwchase17/openai-functions-agent\")\n",
    "prompt.messages"
   ]
  },
  {
   "cell_type": "markdown",
   "metadata": {},
   "source": [
    "Now we can initialize the agent with the LLM, the prompt, and the tools. The agent is responsible for taking an input and deciding what actions to take. Crucially, the agent does not execute those actions- that is done by the AgentExecutor"
   ]
  },
  {
   "cell_type": "code",
   "execution_count": 22,
   "metadata": {},
   "outputs": [],
   "source": [
    "from langchain.agents import create_openai_functions_agent\n",
    "\n",
    "agent = create_openai_functions_agent(llm, tools, prompt)"
   ]
  },
  {
   "cell_type": "markdown",
   "metadata": {},
   "source": [
    "We n ow combine the agent(brains) with the tools inside the AgentExecutor(which will repeatedly call the agent anmd execute the tools.)"
   ]
  },
  {
   "cell_type": "code",
   "execution_count": 23,
   "metadata": {},
   "outputs": [
    {
     "name": "stdout",
     "output_type": "stream",
     "text": [
      "\n",
      "\n",
      "\u001b[1m> Entering new AgentExecutor chain...\u001b[0m\n"
     ]
    },
    {
     "name": "stdout",
     "output_type": "stream",
     "text": [
      "\u001b[32;1m\u001b[1;3mHello! How can I assist you today?\u001b[0m\n",
      "\n",
      "\u001b[1m> Finished chain.\u001b[0m\n"
     ]
    },
    {
     "data": {
      "text/plain": [
       "{'input': 'hi', 'output': 'Hello! How can I assist you today?'}"
      ]
     },
     "execution_count": 23,
     "metadata": {},
     "output_type": "execute_result"
    }
   ],
   "source": [
    "from langchain.agents import AgentExecutor\n",
    "agent_executor = AgentExecutor(agent=agent, tools = tools, verbose=True)\n",
    "\n",
    "# run the agent\n",
    "agent_executor.invoke({\"input\": \"hi\"})"
   ]
  },
  {
   "cell_type": "code",
   "execution_count": 24,
   "metadata": {},
   "outputs": [
    {
     "name": "stdout",
     "output_type": "stream",
     "text": [
      "\n",
      "\n",
      "\u001b[1m> Entering new AgentExecutor chain...\u001b[0m\n",
      "\u001b[32;1m\u001b[1;3m\n",
      "Invoking: `maumau_history` with `{'query': 'mau mau leader'}`\n",
      "\n",
      "\n",
      "\u001b[0m\u001b[33;1m\u001b[1;3mMau Mau were the militant wing of a growing clamour for political representation and freedom in Kenya. The first attempt to form a countrywide political party began on 1 October 1944.[71] This fledgling organisation was called the Kenya African Study Union. Harry Thuku was the first chairman, but he soon resigned. There is dispute over Thuku's reason for leaving KASU: Bethwell Ogot says Thuku \"found the responsibility too heavy\";[71] David Anderson states that \"he walked out in disgust\" as the militant section of KASU took the initiative.[72] KASU changed its name to the Kenya African Union (KAU) in 1946. Author Wangari Maathai writes that many of the organizers were ex-soldiers who fought for the British in Ceylon, Somalia, and Burma during the Second World War. When they returned to Kenya, they were never paid and did not receive recognition for their service, whereas their British counterparts were awarded medals and received land, sometimes from the Kenyan veterans.[73]\n",
      "\n",
      "Mau Mau warfare[edit]\n",
      "\n",
      "On 12 December 1964, President Kenyatta issued an amnesty to Mau Mau fighters to surrender to the government. Some Mau Mau members insisted that they should get land and be absorbed into the civil service and Kenya army. On 28 January 1965, the Kenyatta government sent the Kenya army to Meru district, where Mau Mau fighters gathered under the leadership of Field Marshal Mwariama and Field Marshal Baimungi. These leaders and several Mau Mau fighters were killed. On 14 January 1965, the Minister for Defence Dr Njoroge Mungai was quoted in the Daily Nation saying: \"They are now outlaws, who will be pursued and brought to punishment. They must be outlawed as well in the minds of all the people of Kenya.\"[256][257]\n",
      "\n",
      "The failure of KAU to attain any significant reforms or redress of grievances from the colonial authorities shifted the political initiative to younger and more militant figures within the native Kenyan trade union movement, among the squatters on the settler estates in the Rift Valley and in KAU branches in Nairobi and the Kikuyu districts of central province.[74] Around 1943, residents of Olenguruone Settlement radicalised the traditional practice of oathing, and extended oathing to women and children.[75] By the mid-1950s, 90% of Kikuyu, Embu and Meru were oathed.[76] On 3 October 1952, Mau Mau claimed their first European victim when they stabbed a woman to death near her home in Thika.[77] Six days later, on 9 October, Senior Chief Waruhiu was shot dead in broad daylight in his car,[78] which was an important blow against the colonial government.[79] Waruhiu had been one of the strongest supporters of the British presence in Kenya. His assassination gave Evelyn Baring the final\u001b[0m\u001b[32;1m\u001b[1;3mThe Mau Mau movement did not have a single leader, but rather had various leaders and figures who played significant roles in the movement. Some of the prominent leaders associated with the Mau Mau movement include Field Marshal Mwariama and Field Marshal Baimungi. These leaders, along with other Mau Mau fighters, were involved in the resistance against colonial authorities in Kenya.\u001b[0m\n",
      "\n",
      "\u001b[1m> Finished chain.\u001b[0m\n"
     ]
    },
    {
     "data": {
      "text/plain": [
       "{'input': 'Who was the mau mau leader?',\n",
       " 'output': 'The Mau Mau movement did not have a single leader, but rather had various leaders and figures who played significant roles in the movement. Some of the prominent leaders associated with the Mau Mau movement include Field Marshal Mwariama and Field Marshal Baimungi. These leaders, along with other Mau Mau fighters, were involved in the resistance against colonial authorities in Kenya.'}"
      ]
     },
     "execution_count": 24,
     "metadata": {},
     "output_type": "execute_result"
    }
   ],
   "source": [
    "agent_executor.invoke({\"input\": \"Who was the mau mau leader?\"})"
   ]
  },
  {
   "cell_type": "code",
   "execution_count": 25,
   "metadata": {},
   "outputs": [
    {
     "name": "stdout",
     "output_type": "stream",
     "text": [
      "\n",
      "\n",
      "\u001b[1m> Entering new AgentExecutor chain...\u001b[0m\n",
      "\u001b[32;1m\u001b[1;3m\n",
      "Invoking: `maumau_history` with `{'query': 'Dedan Kimathi'}`\n",
      "\n",
      "\n",
      "\u001b[0m\u001b[33;1m\u001b[1;3mKanogo, Tabitha (1992). Dedan Kimathi: A Biography. Nairobi: East African Educational Publishers.\n",
      "— (1993) [1987]. Squatters and the Roots of Mau Mau, 1905–63. Nairobi: East African Educational Publishers. ISBN 978-9966-46-326-5.\n",
      "Kariuki, Josiah Mwangi (1975). \"Mau Mau\" Detainee: The Account by a Kenya African of his Experiences in Detention Camps 1953–1960. New York and London: Oxford University Press.\n",
      "Leys, Norman (1973). Kenya (4th ed.). London: Frank Cass. ISBN 978-0-714-61688-9.\n",
      "Lonsdale, John (2000). \"KAU's Cultures: Imaginations of Community and Constructions of Leadership in Kenya after the Second World War\". Journal of African Cultural Studies. 13 (1): 107–124. doi:10.1080/713674307. JSTOR 1771859. S2CID 143712816.\n",
      "— (2003). \"Authority, Gender & Violence: The war within Mau Mau's fight for land & freedom\". In Elisha Stephen Atieno-Odhiambo & John Lonsdale (eds.). Mau Mau and Nationhood: Arms, Authority and Narration. Oxford: James Currey. pp. 46–75. ISBN 978-0-852-55478-4.\n",
      "\n",
      "^ Branch 2009, pp. xii–xiii.\n",
      "\n",
      "^ a b Jacob Ole Miaron, Permanent Secretary of the Vice President Ministry of State for National Heritage and Culture (26 February 2009). \"Speech to the 52nd Commemoration of the Memory of Dedan Kimathi\". Archived from the original on 9 October 2011. Retrieved 14 April 2011.\n",
      "\n",
      "^ \"Chapter Two—The Republic\" (PDF). Constitution of Kenya, 2010. National Council for Law Reporting. Article 9, p. 15. Archived from the original (PDF) on 2 April 2013. Retrieved 11 February 2012. The national days . . . [shall include] Mashujaa Day, to be observed on 20 October.\n",
      "\n",
      "^ Dominic Odipo (10 May 2010). \"Who are Kenya's real heroes?\". The Standard. Nairobi: Standard Group. Archived from the original on 21 January 2012. Retrieved 7 June 2010. Changing Kenyatta Day to Mashujaa Day is not just an innocuous and harmless exercise in constitutional semantics.\n",
      "\n",
      "^ a b Jenkins, Cathy (22 March 2001). \"Monuments for the Mau Mau\". BBC News. Retrieved 30 May 2012.\n",
      "\n",
      "Once the ban was removed, former Mau Mau members who had been castrated or otherwise tortured were supported by the Kenya Human Rights Commission, in particular by the commission's George Morara, in their attempt to take on the British government;[264][265] their lawyers had amassed 6,000 depositions regarding human rights abuses by late 2002.[266] 42 potential claimants were interviewed, from whom five were chosen to prosecute a test case; one of the five, Susan Ciong'ombe Ngondi, has since died.[265] The remaining four test claimants are: Ndiku Mutua, who was castrated; Paulo Muoka Nzili, who was castrated; Jane Muthoni Mara, who was subjected to sexual assault that included having bottles filled with boiling water pushed up her vagina; and Wambugu Wa Nyingi, who survived the Hola massacre.[267][268][269]\n",
      "\n",
      "Moi era\n",
      "Daniel Arap Moi\n",
      "1982 coup d'état attempt\n",
      "Wagalla massacre\n",
      "1992 Kenyan general election\n",
      "HIV/AIDS in Kenya\n",
      "1997 Kenyan general election\n",
      "1998 United States embassy bombings\n",
      "Terrorism in Kenya\n",
      "Presidency of Daniel Moi\n",
      "\n",
      "\n",
      "Recent history\n",
      "2002 Kenyan general election\n",
      "Mwai Kibaki\n",
      "2005 Kenyan constitutional referendum\n",
      "2007-2008 Kenyan crisis\n",
      "Raila Odinga\n",
      "2010 Kenyan constitutional referendum\n",
      "Operation Linda Nchi\n",
      "Westgate shopping mall attack\n",
      "2014 Mpeketoni attacks\n",
      "Presidency of Mwai Kibaki\n",
      "Uhuru Kenyatta\n",
      "William Ruto\n",
      "Garissa University College attack\n",
      "October 2017 Kenyan presidential election\n",
      "2018 Kenya handshake\n",
      "COVID-19 pandemic in Kenya\n",
      "Presidency of Uhuru Kenyatta\u001b[0m\u001b[32;1m\u001b[1;3mDedan Kimathi was a prominent figure in the Mau Mau Rebellion, but he was not the sole leader of the movement. The Mau Mau Rebellion was a complex and decentralized uprising involving multiple leaders and participants. Dedan Kimathi is often remembered as one of the key leaders of the Mau Mau movement, but it would be more accurate to describe him as a significant figure rather than the sole leader.\u001b[0m\n",
      "\n",
      "\u001b[1m> Finished chain.\u001b[0m\n"
     ]
    },
    {
     "data": {
      "text/plain": [
       "{'input': 'Is it correct to call Dedan Kimathi the leader of the Mau Mau Rebellion??',\n",
       " 'output': 'Dedan Kimathi was a prominent figure in the Mau Mau Rebellion, but he was not the sole leader of the movement. The Mau Mau Rebellion was a complex and decentralized uprising involving multiple leaders and participants. Dedan Kimathi is often remembered as one of the key leaders of the Mau Mau movement, but it would be more accurate to describe him as a significant figure rather than the sole leader.'}"
      ]
     },
     "execution_count": 25,
     "metadata": {},
     "output_type": "execute_result"
    }
   ],
   "source": [
    "agent_executor.invoke({\"input\": \"Is it correct to call Dedan Kimathi the leader of the Mau Mau Rebellion??\"})"
   ]
  },
  {
   "cell_type": "code",
   "execution_count": 27,
   "metadata": {},
   "outputs": [
    {
     "name": "stdout",
     "output_type": "stream",
     "text": [
      "\n",
      "\n",
      "\u001b[1m> Entering new AgentExecutor chain...\u001b[0m\n",
      "\u001b[32;1m\u001b[1;3m\n",
      "Invoking: `maumau_history` with `{'query': 'mau mau tactics in the fight for independence'}`\n",
      "\n",
      "\n",
      "\u001b[0m\u001b[33;1m\u001b[1;3mMau Mau warfare[edit]\n",
      "\n",
      "Mau Mau were the militant wing of a growing clamour for political representation and freedom in Kenya. The first attempt to form a countrywide political party began on 1 October 1944.[71] This fledgling organisation was called the Kenya African Study Union. Harry Thuku was the first chairman, but he soon resigned. There is dispute over Thuku's reason for leaving KASU: Bethwell Ogot says Thuku \"found the responsibility too heavy\";[71] David Anderson states that \"he walked out in disgust\" as the militant section of KASU took the initiative.[72] KASU changed its name to the Kenya African Union (KAU) in 1946. Author Wangari Maathai writes that many of the organizers were ex-soldiers who fought for the British in Ceylon, Somalia, and Burma during the Second World War. When they returned to Kenya, they were never paid and did not receive recognition for their service, whereas their British counterparts were awarded medals and received land, sometimes from the Kenyan veterans.[73]\n",
      "\n",
      "Mau Mau status in Kenya[edit]\n",
      "\n",
      "\n",
      "Partisan questions about the Mau Mau war have ... echoed round Kenya's political arena during 40 years of independence. How historically necessary was Mau Mau? Did its secretive violence alone have the power to destroy white supremacy? Or did it merely sow discord within a mass nationalism that—for all the failings of the Kenya African Union (KAU)—was bound to win power in the end? Did Mau Mau aim at freedom for all Kenyans? or did moderate, constitutional politicians rescue that pluralist prize from the jaws of its ethnic chauvinism? Has the self-sacrificial victory of the poor been unjustly forgotten, and appropriated by the rich? or are Mau Mau's defeats and divisions best buried in oblivion?[303]\n",
      "\n",
      "There is continuing debate about Mau Mau's and the rebellion's effects on decolonisation and on Kenya after independence. Regarding decolonisation, the most common view is that Kenya's independence came about as a result of the British government's deciding that a continuance of colonial rule would entail a greater use of force than that which the British public would tolerate.[251] Nissimi argues, though, that such a view fails to \"acknowledge the time that elapsed until the rebellion's influence actually took effect [and does not] explain why the same liberal tendencies failed to stop the dirty war the British conducted against the Mau Mau in Kenya while it was raging on\". Others contend that, as the 1950s progressed, nationalist intransigence increasingly rendered official plans for political development irrelevant, meaning that after the mid-1950s British policy increasingly accepted Kenyan nationalism and moved to co-opt its leaders and organisations into collaboration.[140][252]\u001b[0m\u001b[32;1m\u001b[1;3mThe Mau Mau were the militant wing of a movement seeking political representation and freedom in Kenya. They used secretive violence as a tactic in their fight for independence. There is ongoing debate about the impact of the Mau Mau rebellion on decolonization and Kenya after independence. Some argue that Kenya's independence was a result of the British government's decision to avoid further conflict, while others believe that nationalist intransigence played a significant role in shaping British policy towards Kenyan nationalism.\u001b[0m\n",
      "\n",
      "\u001b[1m> Finished chain.\u001b[0m\n"
     ]
    },
    {
     "data": {
      "text/plain": [
       "{'input': 'Describe the mau mau tactics in the fight for independence',\n",
       " 'output': \"The Mau Mau were the militant wing of a movement seeking political representation and freedom in Kenya. They used secretive violence as a tactic in their fight for independence. There is ongoing debate about the impact of the Mau Mau rebellion on decolonization and Kenya after independence. Some argue that Kenya's independence was a result of the British government's decision to avoid further conflict, while others believe that nationalist intransigence played a significant role in shaping British policy towards Kenyan nationalism.\"}"
      ]
     },
     "execution_count": 27,
     "metadata": {},
     "output_type": "execute_result"
    }
   ],
   "source": [
    "agent_executor.invoke({\"input\": \"Describe the mau mau tactics in the fight for independence\"})"
   ]
  },
  {
   "cell_type": "markdown",
   "metadata": {},
   "source": [
    "## Adding in memory\n",
    "Currently, the agent is stateless. This means that it does not remember previous interactions. To give it a memory, we need to pass in previous chat_history"
   ]
  },
  {
   "cell_type": "code",
   "execution_count": 28,
   "metadata": {},
   "outputs": [
    {
     "name": "stdout",
     "output_type": "stream",
     "text": [
      "\n",
      "\n",
      "\u001b[1m> Entering new AgentExecutor chain...\u001b[0m\n",
      "\u001b[32;1m\u001b[1;3mHello Kevin! How can I assist you today?\u001b[0m\n",
      "\n",
      "\u001b[1m> Finished chain.\u001b[0m\n"
     ]
    },
    {
     "data": {
      "text/plain": [
       "{'input': 'Hi, my name is Kevin',\n",
       " 'chat_history': [],\n",
       " 'output': 'Hello Kevin! How can I assist you today?'}"
      ]
     },
     "execution_count": 28,
     "metadata": {},
     "output_type": "execute_result"
    }
   ],
   "source": [
    "# here we will pass an empty list of messages for chat_history because it is the first message in the chat\n",
    "agent_executor.invoke({\"input\": \"Hi, my name is Kevin\", \"chat_history\": []})"
   ]
  },
  {
   "cell_type": "code",
   "execution_count": 29,
   "metadata": {},
   "outputs": [
    {
     "name": "stdout",
     "output_type": "stream",
     "text": [
      "\n",
      "\n",
      "\u001b[1m> Entering new AgentExecutor chain...\u001b[0m\n",
      "\u001b[32;1m\u001b[1;3mYour name is Kevin.\u001b[0m\n",
      "\n",
      "\u001b[1m> Finished chain.\u001b[0m\n"
     ]
    },
    {
     "data": {
      "text/plain": [
       "{'chat_history': [HumanMessage(content='Hi, my name is Kevin'),\n",
       "  AIMessage(content='Hello Kevin! How can I assist you today?')],\n",
       " 'input': 'What is my name',\n",
       " 'output': 'Your name is Kevin.'}"
      ]
     },
     "execution_count": 29,
     "metadata": {},
     "output_type": "execute_result"
    }
   ],
   "source": [
    "from langchain_core.messages import AIMessage, HumanMessage\n",
    "agent_executor.invoke(\n",
    "    {\n",
    "        \"chat_history\": [\n",
    "            HumanMessage(content=\"Hi, my name is Kevin\"),\n",
    "            AIMessage(content = 'Hello Kevin! How can I assist you today?')\n",
    "        ],\n",
    "        \"input\": \"What is my name\"\n",
    "    }\n",
    ")"
   ]
  },
  {
   "cell_type": "markdown",
   "metadata": {},
   "source": [
    "If we want to keep track of these messages automatically, we can wrap this in a RunnableWithMessageHistory"
   ]
  },
  {
   "cell_type": "code",
   "execution_count": 31,
   "metadata": {},
   "outputs": [],
   "source": [
    "from langchain_community.chat_message_histories import ChatMessageHistory\n",
    "from langchain_core.runnables.history import RunnableWithMessageHistory\n",
    "\n",
    "message_history = ChatMessageHistory()\n",
    "\n",
    "agent_with_chat_history = RunnableWithMessageHistory(\n",
    "    agent_executor,\n",
    "    lambda session_id: message_history,\n",
    "    input_message_key = \"input\",\n",
    "    history_messages_key=\"chat_history\"\n",
    ")"
   ]
  },
  {
   "cell_type": "code",
   "execution_count": 32,
   "metadata": {},
   "outputs": [
    {
     "name": "stdout",
     "output_type": "stream",
     "text": [
      "\n",
      "\n",
      "\u001b[1m> Entering new AgentExecutor chain...\u001b[0m\n",
      "\u001b[32;1m\u001b[1;3mHello Bob! How can I assist you today?\u001b[0m\n",
      "\n",
      "\u001b[1m> Finished chain.\u001b[0m\n"
     ]
    },
    {
     "data": {
      "text/plain": [
       "{'input': \"hi! I'm bob\",\n",
       " 'chat_history': [],\n",
       " 'output': 'Hello Bob! How can I assist you today?'}"
      ]
     },
     "execution_count": 32,
     "metadata": {},
     "output_type": "execute_result"
    }
   ],
   "source": [
    "agent_with_chat_history.invoke(\n",
    "    {\"input\": \"hi! I'm bob\"},\n",
    "    # This is needed because in most real world scenarios, a session id is needed\n",
    "    # It isn't really used here because we are using a simple in memory ChatMessageHistory\n",
    "    config={\"configurable\": {\"session_id\": \"<foo>\"}},\n",
    ")"
   ]
  },
  {
   "cell_type": "code",
   "execution_count": 34,
   "metadata": {},
   "outputs": [
    {
     "name": "stdout",
     "output_type": "stream",
     "text": [
      "\n",
      "\n",
      "\u001b[1m> Entering new AgentExecutor chain...\u001b[0m\n",
      "\u001b[32;1m\u001b[1;3m\n",
      "Invoking: `maumau_history` with `{'query': 'most impactful Mau Mau freedom fighter'}`\n",
      "\n",
      "\n",
      "\u001b[0m\u001b[33;1m\u001b[1;3mWunyabari O. Maloba regards the rise of the Mau Mau movement as \"without doubt, one of the most important events in recent African history\".[105] David Anderson, however, considers Maloba's and similar work to be the product of \"swallowing too readily the propaganda of the Mau Mau war\", noting the similarity between such analysis and the \"simplistic\" earlier studies of Mau Mau.[43] This earlier work cast the Mau Mau war in strictly bipolar terms, \"as conflicts between anti-colonial nationalists and colonial collaborators\".[43] Caroline Elkins' 2005 study, Imperial Reckoning, awarded the 2006 Pulitzer Prize for General Non-Fiction,[106] was also controversial in that she was accused of presenting an equally binary portrayal of the conflict[107] and of drawing questionable conclusions from limited census data, in particular her assertion that the victims of British punitive measures against the Kikuyu amounted to as many as 300,000 dead.[108] While Elstein regards the \"requirement\" for\n",
      "\n",
      "We are determined to have independence in peace, and we shall not allow hooligans to rule Kenya. We must have no hatred towards one another. Mau Mau was a disease which had been eradicated, and must never be remembered again.[143]\n",
      "\n",
      "\n",
      "—Speech by Jomo Kenyatta, April 1963\n",
      "\n",
      "\n",
      "See also[edit]\n",
      "The Black Man's Land Trilogy, series of films on Kenya\n",
      "Frank Kitson, author of Gangs and Counter-gangs\n",
      "Kurito ole Kisio\n",
      "Muthoni wa Kirima\n",
      "Radical Chic & Mau-Mauing the Flak Catchers\n",
      "Robert Ruark, author of Something of Value and Uhuru\n",
      "Weep Not, Child\n",
      "Insurgency[edit]\n",
      "Mungiki, contemporary Kikuyu insurgency within Kenya\n",
      "General[edit]\n",
      "British military history\n",
      "History of Kenya\n",
      "Notes[edit]\n",
      "\n",
      "Members of Mau Mau are currently recognised by the Kenyan Government as freedom-independence heroes and heroines who sacrificed their lives in order to free Kenyans from colonial rule.[306] Since 2010, Mashujaa Day (Heroes Day) has been marked annually on 20 October (the same day Baring signed the Emergency order).[307] According to the Kenyan Government, Mashujaa Day will be a time for Kenyans to remember and honour Mau Mau and other Kenyans who participated in the independence struggle.[306] Mashujaa Day will replace Kenyatta Day; the latter has until now also been held on 20 October.[308] In 2001, the Kenyan Government announced that important Mau Mau sites were to be turned into national monuments.[309]\n",
      "\n",
      "On 12 December 1964, President Kenyatta issued an amnesty to Mau Mau fighters to surrender to the government. Some Mau Mau members insisted that they should get land and be absorbed into the civil service and Kenya army. On 28 January 1965, the Kenyatta government sent the Kenya army to Meru district, where Mau Mau fighters gathered under the leadership of Field Marshal Mwariama and Field Marshal Baimungi. These leaders and several Mau Mau fighters were killed. On 14 January 1965, the Minister for Defence Dr Njoroge Mungai was quoted in the Daily Nation saying: \"They are now outlaws, who will be pursued and brought to punishment. They must be outlawed as well in the minds of all the people of Kenya.\"[256][257]\u001b[0m\u001b[32;1m\u001b[1;3mThe Mau Mau movement in Kenya was a significant and impactful struggle for independence from colonial rule. While there were many individuals involved in the movement, some notable figures include Field Marshal Mwariama and Field Marshal Baimungi, who provided leadership to Mau Mau fighters in the Meru district. These leaders, along with other Mau Mau fighters, played a crucial role in the fight for independence and the liberation of Kenya from colonial oppression.\n",
      "\n",
      "It's important to recognize the sacrifices and contributions of all Mau Mau members who fought for freedom and independence in Kenya. The Kenyan government currently recognizes members of Mau Mau as freedom and independence heroes and heroines who sacrificed their lives for the liberation of the country. Mashujaa Day (Heroes Day) is celebrated annually on October 20th to honor and remember the Mau Mau and other Kenyans who participated in the independence struggle.\n",
      "\n",
      "The Mau Mau movement remains a significant part of Kenya's history and the fight for independence, and the contributions of its members are remembered and honored by the Kenyan government and people.\u001b[0m\n",
      "\n",
      "\u001b[1m> Finished chain.\u001b[0m\n"
     ]
    },
    {
     "data": {
      "text/plain": [
       "{'input': 'who was the most impactful mau mau freedom fighter?',\n",
       " 'chat_history': [HumanMessage(content=\"hi! I'm bob\"),\n",
       "  AIMessage(content='Hello Bob! How can I assist you today?'),\n",
       "  HumanMessage(content='who was the most impactful freedom fighter?'),\n",
       "  AIMessage(content='There have been many impactful freedom fighters throughout history who have fought for the rights and liberation of their people. Some notable freedom fighters include Mahatma Gandhi, Nelson Mandela, Martin Luther King Jr., and Rosa Parks. Each of these individuals made significant contributions to the fight for freedom, justice, and equality in their respective countries. Their actions and leadership have inspired generations of people around the world to stand up against oppression and injustice.')],\n",
       " 'output': \"The Mau Mau movement in Kenya was a significant and impactful struggle for independence from colonial rule. While there were many individuals involved in the movement, some notable figures include Field Marshal Mwariama and Field Marshal Baimungi, who provided leadership to Mau Mau fighters in the Meru district. These leaders, along with other Mau Mau fighters, played a crucial role in the fight for independence and the liberation of Kenya from colonial oppression.\\n\\nIt's important to recognize the sacrifices and contributions of all Mau Mau members who fought for freedom and independence in Kenya. The Kenyan government currently recognizes members of Mau Mau as freedom and independence heroes and heroines who sacrificed their lives for the liberation of the country. Mashujaa Day (Heroes Day) is celebrated annually on October 20th to honor and remember the Mau Mau and other Kenyans who participated in the independence struggle.\\n\\nThe Mau Mau movement remains a significant part of Kenya's history and the fight for independence, and the contributions of its members are remembered and honored by the Kenyan government and people.\"}"
      ]
     },
     "execution_count": 34,
     "metadata": {},
     "output_type": "execute_result"
    }
   ],
   "source": [
    "agent_with_chat_history.invoke(\n",
    "    {\"input\": \"who was the most impactful mau mau freedom fighter?\"},\n",
    "    # This is needed because in most real world scenarios, a session id is needed\n",
    "    # It isn't really used here because we are using a simple in memory ChatMessageHistory\n",
    "    config={\"configurable\": {\"session_id\": \"<foo>\"}},\n",
    ")"
   ]
  },
  {
   "cell_type": "code",
   "execution_count": null,
   "metadata": {},
   "outputs": [],
   "source": []
  }
 ],
 "metadata": {
  "kernelspec": {
   "display_name": "langchain",
   "language": "python",
   "name": "python3"
  },
  "language_info": {
   "codemirror_mode": {
    "name": "ipython",
    "version": 3
   },
   "file_extension": ".py",
   "mimetype": "text/x-python",
   "name": "python",
   "nbconvert_exporter": "python",
   "pygments_lexer": "ipython3",
   "version": "3.10.12"
  }
 },
 "nbformat": 4,
 "nbformat_minor": 2
}
